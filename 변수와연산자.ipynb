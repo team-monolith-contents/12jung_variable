{
 "cells": [
  {
   "cell_type": "markdown",
   "id": "b95bdda0-9ac8-4d75-909a-9c3818f35ee6",
   "metadata": {},
   "source": [
    "## **변수**\n",
    "\n",
    "* **변수 : 데이터를 저장하기 위한 공간**\n",
    "> 데이터를 저장할 수 있는 메모리입니다. 저장한 값을 변경할 수 있습니다. \n",
    "\n",
    "* **변수의 자료형**\n",
    "> 파이썬에서 어떤 자료형이 저장되느냐에 따라 변수의 자료형이 바뀝니다. "
   ]
  },
  {
   "cell_type": "markdown",
   "id": "106ea374-5e5d-4a81-a372-9679fccc1126",
   "metadata": {},
   "source": [
    "#### **예제 1 : 변수에 값을 저장하고 바꾸기**"
   ]
  },
  {
   "cell_type": "code",
   "execution_count": null,
   "id": "b181a6ae-aedf-4a5f-a920-c4af70d71093",
   "metadata": {},
   "outputs": [],
   "source": [
    "# 예제_1_변수에_값을_저장하고_바꾸기\n",
    "\n",
    "a = 10\n",
    "a = 20\n",
    "print(a)"
   ]
  },
  {
   "cell_type": "markdown",
   "id": "0475f6c6-7923-4b41-9377-f63a0e0adb68",
   "metadata": {},
   "source": [
    "#### 예제 1 해설\n",
    ">변수 a에 10이라는 데이터를 대입하고, 다음 줄에서 20이라는 데이터를 다시 대입하면 최종적으로 a에는 20이라는 데이터가 저장됩니다."
   ]
  },
  {
   "cell_type": "markdown",
   "id": "f7c7ae31-acb1-4871-9cb8-1d13339f279c",
   "metadata": {},
   "source": [
    "## **변수 이름 짓기**\n",
    "\n",
    "* 숫자, 알파벳, 한글 등을 사용할 수 있습니다.\n",
    "> 단, 첫 문자는 숫자로 이루어져서는 안됩니다.(예를 들어, 변수 이름 1add는 잘못된 이름입니다)\n",
    "\n",
    "* 가독성을 위해서 변수 이름은 누가 봐도 이해할 수 있도록 지어주세요. \n",
    "> 가격을 계산하고 싶을 때 변수명을 price로 한다면, 다른 사람이 코드를 알아보기 쉽겠죠?"
   ]
  },
  {
   "cell_type": "markdown",
   "id": "d2bf2a7f-7d21-4ef5-b0c5-ca3d5b46689d",
   "metadata": {},
   "source": [
    "#### **예제 2 : 변수 이름 짓고 데이터 저장**\n"
   ]
  },
  {
   "cell_type": "code",
   "execution_count": null,
   "id": "5001041f-a757-47ee-b1c9-5f05a33aab05",
   "metadata": {
    "codle/previous_execution": {
     "code": "# 예제_3_변수_이름_짓고_데이터_넣어보기\npizza = 30000\ncoffee = 2500\nprint(coffee)",
     "id": "5076989"
    }
   },
   "outputs": [],
   "source": [
    "# 예제_2_변수_이름_짓고_데이터_저장\n",
    "\n",
    "pizza = 30000\n",
    "coffee = 2500\n",
    "print(coffee)"
   ]
  },
  {
   "cell_type": "markdown",
   "id": "50f9109d-4e35-4b9e-ae36-ba747fa5e5af",
   "metadata": {},
   "source": [
    "## **산술연산자**\n",
    "\n",
    "**📌 산술 연산자 종류**\n",
    "\n",
    "연산 | 설명 | 예시 | 결과\n",
    ":---:|:---:|:---:|:---:\n",
    "\\+ | 더하기 | 7 + 2 | 9\n",
    "\\- | 빼기 | 7 - 2 | 5\n",
    "\\* | 곱하기 | 7 * 2 | 14\n",
    "\\/ | 나누기 | 7 / 2 | 3.5\n",
    "\\// | 몫 | 7 // 2 | 3\n",
    "\\% | 나머지 | 7 % 2 | 1\n",
    "** | 거듭제곱 | 7 ** 2 | 49"
   ]
  },
  {
   "cell_type": "markdown",
   "id": "5bd22b3f-25fc-46eb-87b5-7d7e877e0734",
   "metadata": {},
   "source": [
    "#### **예제 3 : 산술연산하기**"
   ]
  },
  {
   "cell_type": "code",
   "execution_count": null,
   "id": "67d071ce-dfe0-43b6-a713-3e1e0dac67f9",
   "metadata": {
    "codle/previous_execution": {
     "code": "# 예제_3_변수로_산술연산하기\n\nA = 7 # 변수 A에 7을 저장합니다.\nB = 2 # 변수 B에 2를 저장합니다.\n\nprint(A + B)  # A와 B를 더한 값을 구합니다.\nprint(A - B)  # A에서 B를 뺀 값을 구합니다.\nprint(A * B)  # A와 B를 곱한 값을 구합니다.\nprint(A / B)  # A에서 B를 나눈 값을 구합니다.\nprint(A // B) # A를 B로 나눈 몫을 구합니다.\nprint(A % B)  # A를 B로 나눈 나머지를 합니다.\nprint(A ** B) # A를 B로 거듭제곱 값을 합니다.",
     "id": "5076990"
    }
   },
   "outputs": [],
   "source": [
    "# 예제 3 : 산술연산하기\n",
    "\n",
    "A = 7 # 변수 A에 7을 저장합니다.\n",
    "B = 2 # 변수 B에 2를 저장합니다.\n",
    "\n",
    "print(A + B)  # A와 B를 더한 값을 구합니다.\n",
    "print(A - B)  # A에서 B를 뺀 값을 구합니다.\n",
    "print(A * B)  # A와 B를 곱한 값을 구합니다.\n",
    "print(A / B)  # A에서 B를 나눈 값을 구합니다.\n",
    "print(A // B) # A를 B로 나눈 몫을 구합니다.\n",
    "print(A % B)  # A를 B로 나눈 나머지를 합니다.\n",
    "print(A ** B) # A를 B로 거듭제곱 값을 합니다."
   ]
  },
  {
   "cell_type": "markdown",
   "id": "a060b3b5-bfd9-443e-8b02-494ce7bbd75a",
   "metadata": {},
   "source": [
    "* 문자열도 더하고 곱할 수 있습니다. \n",
    "> **\"+\"연산자** : 문자열을 연결해주는 연산자입니다. (문자열+문자열)  \n",
    "> **\"\\*\"연산자** : 같은 문자를 여러 번 출력해주는 연산자입니다. (문자열*정수)\n",
    "\n",
    "> **⚠️ 주의(WARNING):**\n",
    ">\n",
    "> **여러개의 문자열을 더해서 출력하는 것과 `print()` 함수에 변수들을 ,(반점:comma)로 분리하여 출력하는 것에는 차이가 있습니다.**\n",
    "> \n",
    "> `print()` 함수에 변수들을 ,로 분리하면 변수값을 공백으로 구분하여 출력합니다.\n",
    ">  \n",
    "> 여러개의 문자열을 `+` 연산으로 붙이면 공백없이 붙여서 출력합니다.\n",
    "> \n",
    "> 문자열간의 `+` 연산은 출력에만 사용되는 것이 아니라 문자열을 이어 붙여야 하는 다양한 상황에 사용할 수 있습니다."
   ]
  },
  {
   "cell_type": "markdown",
   "id": "13ead107-bbec-46e3-839d-2f8d9bc68c67",
   "metadata": {},
   "source": [
    "#### **예제 4 : 문자열로 연산하기**\n"
   ]
  },
  {
   "cell_type": "code",
   "execution_count": null,
   "id": "bcb0a5cd-acab-42ae-8f5d-f8c4972642df",
   "metadata": {},
   "outputs": [],
   "source": [
    "# 예제_4_문자열로_연산하기\n",
    "\n",
    "a = '코들'   # 변수 a에 '코들'을 저장합니다.\n",
    "b = '파이썬' # 변수 b에 '파이썬'을 저장합니다.\n",
    "\n",
    "# 변수 a와 b를 + 로 더하여 출력하면 두 변수가 공백 없이 이어서 출력되고\n",
    "# a와 b를 print 함수의 인자로 주어 출력하면 두 변수가 공백으로 구분되어 출력됩니다.\n",
    "print(a + b) # a와 b를 이어붙인 문자열을 출력합니다.  \n",
    "print(a, b) # a와 b를 공백으로 구분하여 출력합니다."
   ]
  },
  {
   "cell_type": "markdown",
   "id": "52dd7a80-c415-4097-a7d9-99e65d889dcd",
   "metadata": {},
   "source": [
    "#### **예제 5 : 문자와 정수를 곱하기**\n"
   ]
  },
  {
   "cell_type": "code",
   "execution_count": null,
   "id": "5c1cd92d-ba6f-454a-9e0a-f4845e126216",
   "metadata": {},
   "outputs": [],
   "source": [
    "# 예제_5_문자와_정수를_곱하기\n",
    "\n",
    "a = '코들 '   # 변수 a에 '코들'을 저장합니다.\n",
    "\n",
    "print(a * 3) # 코들을 3번 출력합니다."
   ]
  },
  {
   "cell_type": "markdown",
   "id": "a0537ca9-6951-4722-ae23-8595c9e42c92",
   "metadata": {},
   "source": [
    "> **⛔️ 오류(ERROR):**\n",
    ">\n",
    "> 문자열에는 정수만 곱할 수 있습니다. 3.5와 같이 정수가 아닌 숫자를 곱하면 오류가 발생합니다.\n",
    "            "
   ]
  },
  {
   "cell_type": "markdown",
   "id": "d10c4f44-104e-44d9-8d44-97119c0dd7a6",
   "metadata": {},
   "source": [
    "#### **예제 5-1 : 문자에 정수가 아닌 숫자를 곱하면?**\n"
   ]
  },
  {
   "cell_type": "code",
   "execution_count": null,
   "id": "e5fb7639-3009-4fbf-a000-33a106aeab30",
   "metadata": {
    "codle/previous_execution": {
     "code": "# 예제_5-1_문자에_정수가_아닌_숫자를_곱하면?\n\na = '코들 '   # 변수 a에 '코들'을 저장합니다.\n\nprint(a * 3.5) # 코들을 3.5번 출력합니다???",
     "id": "5076991"
    }
   },
   "outputs": [],
   "source": [
    "# 예제_5-1_문자에_정수가_아닌_숫자를_곱하면?\n",
    "\n",
    "a = '코들 '   # 변수 a에 '코들'을 저장합니다.\n",
    "\n",
    "print(a * 3.5) # 코들을 3.5번 출력합니다???"
   ]
  },
  {
   "cell_type": "markdown",
   "id": "39403b46-6515-424a-9a2a-a2d3a45eedcf",
   "metadata": {},
   "source": [
    "## **비교 연산자**\n",
    "\n",
    "**📌 비교 연산자 종류**\n",
    "비교 연산자의 종류 | 설명 | 예시 | True of False\n",
    ":---:|:---:|:---:|:---:\n",
    "a>b | a가 b 초과일 때 참 | 17>5 | True\n",
    "a>=b | a가 b 이상일 때 참 | 2>=4 | False\n",
    "a==b | a와 b가 동일할 때 참 | 3==3 |True\n",
    "a!=b | a와 b가 다른 경우 참 | 7!=7 | False\n",
    "a<b | a가 b 미만일 때 참 | 3<4 |True\n",
    "a<=b | a가 b 이하일 때 참 | 7<=9 | True\n",
    "\n",
    "\n",
    "\n",
    "> **⚠️ 주의(WARNING):**\n",
    ">\n",
    "> * 비교 연산자 `==`과 대입 연산자 `=`을 헷갈리지 않게 주의해야 합니다.    \n",
    ">\n",
    ">> - a == b : a와 b가 동일할 때 참을 반환합니다.   \n",
    ">> - a = b : 변수 a에 값 b를 대입해줍니다. (참고 : 이 코드 이전에 b가 선언되지 않았다면 오류가 발생합니다.)\n",
    ">\n",
    "> * !=, >=, <= 에서 \"=\"는 반드시 오른쪽에 작성되어야 합니다. \n"
   ]
  },
  {
   "cell_type": "markdown",
   "id": "cbeb0215-bf7d-42f6-ae77-c8114d583723",
   "metadata": {},
   "source": [
    "#### **예제 6 : 비교 연산자**"
   ]
  },
  {
   "cell_type": "code",
   "execution_count": null,
   "id": "0cb06b54-69e5-4cea-bc06-1345ed3f4793",
   "metadata": {
    "codle/previous_execution": {
     "code": "# 예제 6 : 비교 연산자\n\nprint(17>5)\nprint(2>=4)\nprint(3==3)\nprint(7!=7)\nprint(3<4)\nprint(7<=9)",
     "id": "5077600"
    }
   },
   "outputs": [],
   "source": [
    "# 예제 6 : 비교 연산자\n",
    "\n",
    "print(17>5)\n",
    "print(2>=4)\n",
    "print(3==3)\n",
    "print(7!=7)\n",
    "print(3<4)\n",
    "print(7<=9)"
   ]
  },
  {
   "cell_type": "markdown",
   "id": "2a398f75-e543-4aa2-8f4c-c2f77bf4a4dc",
   "metadata": {},
   "source": [
    "## **논리 연산자**\n",
    "\n",
    "**📌 논리 연산자 종류**\n",
    "논리 연산자의 종류 | 설명 \n",
    ":---:|:---:\n",
    "and | 모두 True일 때 True \n",
    "or | 둘 중 하나만 True여도 True \n",
    "not | True면 False, False명 True \n"
   ]
  },
  {
   "cell_type": "markdown",
   "id": "85db19c6-9981-4601-8966-090726e29caf",
   "metadata": {},
   "source": [
    "#### **예제 7 : 논리 연산자**"
   ]
  },
  {
   "cell_type": "code",
   "execution_count": null,
   "id": "7a505a73-e67d-4abb-84a9-833bc243dddf",
   "metadata": {
    "codle/previous_execution": {
     "code": "# 예제 7 : 논리 연산자\na = True\nb = False\n\nprint(a and a)\nprint(a and b)\nprint(b and b)\n\nprint(a or a)\nprint(a or b)\nprint(b or b)\n\nprint(not a)\nprint(not b)\n",
     "id": "5078119"
    }
   },
   "outputs": [],
   "source": [
    "# 예제 7 : 논리 연산자\n",
    "a = True\n",
    "b = False\n",
    "\n",
    "print(a and a)\n",
    "print(a and b)\n",
    "print(b and b)\n",
    "\n",
    "print(a or a)\n",
    "print(a or b)\n",
    "print(b or b)\n",
    "\n",
    "print(not a)\n",
    "print(not b)\n"
   ]
  }
 ],
 "metadata": {
  "kernelspec": {
   "display_name": "Python 3 (ipykernel)",
   "language": "python",
   "name": "python3"
  },
  "language_info": {
   "codemirror_mode": {
    "name": "ipython",
    "version": 3
   },
   "file_extension": ".py",
   "mimetype": "text/x-python",
   "name": "python",
   "nbconvert_exporter": "python",
   "pygments_lexer": "ipython3",
   "version": "3.10.13"
  }
 },
 "nbformat": 4,
 "nbformat_minor": 5
}
